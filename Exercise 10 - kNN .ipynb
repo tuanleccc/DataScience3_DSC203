{
 "cells": [
  {
   "cell_type": "code",
   "execution_count": 9,
   "metadata": {},
   "outputs": [
    {
     "data": {
      "image/png": "[encoded data removed]",
      "text/plain": [
       "<Figure size 432x288 with 1 Axes>"
      ]
     },
     "metadata": {
      "needs_background": "light"
     },
     "output_type": "display_data"
    }
   ],
   "source": [
    "import pandas as pd\n",
    "import numpy as np\n",
    "import seaborn as sns\n",
    "import matplotlib.pyplot as plt\n",
    "\n",
    "\n",
    "x2=np.array([10,35,57,84,125,150,237,295])#.reshape((-1, 1))\n",
    "y2=np.array([7,9,8,12,14,17,13,21])\n",
    "plt.scatter(x2,y2)\n",
    "plt.xlabel(\"TV Ad\")\n",
    "plt.ylabel(\"Sale\")\n",
    "plt.show()"
   ]
  },
  {
   "cell_type": "code",
   "execution_count": 17,
   "metadata": {},
   "outputs": [
    {
     "data": {
      "image/png": "[encoded data removed]",
      "text/plain": [
       "<Figure size 432x288 with 1 Axes>"
      ]
     },
     "metadata": {
      "needs_background": "light"
     },
     "output_type": "display_data"
    }
   ],
   "source": [
    "### Note: 1) we will need to investigate into \".fit\" function later\n",
    "# this exercise is for showing the agreement between doing by hand and Python for kNN\n",
    "### 2) In order to use .fit, x2 must be reshape\n",
    "from sklearn.neighbors import KNeighborsRegressor\n",
    "knn_model = KNeighborsRegressor(n_neighbors=3)\n",
    "\n",
    "x2=np.array([10,35,57,84,125,150,237,295]).reshape((-1, 1))\n",
    "y2=np.array([7,9,8,12,14,17,13,21])\n",
    "\n",
    "knn_model.fit(x2, y2)\n",
    "\n",
    "new_input=np.arange(1,300,1).reshape(-1,1)\n",
    "yhat=knn_model.predict(new_input)\n",
    "plt.scatter(x2,y2)\n",
    "plt.scatter(new_input,yhat)\n",
    "plt.show()"
   ]
  },
  {
   "cell_type": "code",
   "execution_count": null,
   "metadata": {},
   "outputs": [],
   "source": []
  },
  {
   "cell_type": "code",
   "execution_count": 12,
   "metadata": {},
   "outputs": [
    {
     "name": "stdout",
     "output_type": "stream",
     "text": [
      "[ 10  35  57  84 125 150 237 295]\n"
     ]
    }
   ],
   "source": [
    "### x2 as an array\n",
    "x2=np.array([10,35,57,84,125,150,237,295])\n",
    "y2=np.array([7,9,8,12,14,17,13,21])\n",
    "print(x2)"
   ]
  },
  {
   "cell_type": "code",
   "execution_count": 13,
   "metadata": {},
   "outputs": [
    {
     "data": {
      "text/plain": [
       "(8,)"
      ]
     },
     "execution_count": 13,
     "metadata": {},
     "output_type": "execute_result"
    }
   ],
   "source": [
    "x2.shape"
   ]
  },
  {
   "cell_type": "code",
   "execution_count": 14,
   "metadata": {},
   "outputs": [
    {
     "name": "stdout",
     "output_type": "stream",
     "text": [
      "[[ 10]\n",
      " [ 35]\n",
      " [ 57]\n",
      " [ 84]\n",
      " [125]\n",
      " [150]\n",
      " [237]\n",
      " [295]]\n"
     ]
    }
   ],
   "source": [
    "### x2 after reshape : looke likt a matrix size 8x1\n",
    "x3=np.array([10,35,57,84,125,150,237,295]).reshape((-1, 1))\n",
    "print(x3)"
   ]
  },
  {
   "cell_type": "code",
   "execution_count": 16,
   "metadata": {},
   "outputs": [
    {
     "data": {
      "text/plain": [
       "(8, 1)"
      ]
     },
     "execution_count": 16,
     "metadata": {},
     "output_type": "execute_result"
    }
   ],
   "source": [
    "x3.shape"
   ]
  },
  {
   "cell_type": "code",
   "execution_count": null,
   "metadata": {},
   "outputs": [],
   "source": []
  }
 ],
 "metadata": {
  "kernelspec": {
   "display_name": "Python 3",
   "language": "python",
   "name": "python3"
  },
  "language_info": {
   "codemirror_mode": {
    "name": "ipython",
    "version": 3
   },
   "file_extension": ".py",
   "mimetype": "text/x-python",
   "name": "python",
   "nbconvert_exporter": "python",
   "pygments_lexer": "ipython3",
   "version": "3.8.3"
  }
 },
 "nbformat": 4,
 "nbformat_minor": 4
}
